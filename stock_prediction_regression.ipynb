{
  "nbformat": 4,
  "nbformat_minor": 0,
  "metadata": {
    "colab": {
      "name": "stock_prediction_regression.ipynb",
      "version": "0.3.2",
      "provenance": [],
      "collapsed_sections": [],
      "toc_visible": true
    },
    "kernelspec": {
      "name": "python3",
      "display_name": "Python 3"
    }
  },
  "cells": [
    {
      "cell_type": "markdown",
      "metadata": {
        "id": "pJxp5em7HofL",
        "colab_type": "text"
      },
      "source": [
        "# Stock Predictions with Regression\n",
        "\n",
        "### Predict end of week (eow) closing price\n",
        "\n",
        "- import dependencies\n",
        "- import dataset\n",
        "- make regression algorithms\n",
        "- make predictions"
      ]
    },
    {
      "cell_type": "code",
      "metadata": {
        "id": "nTHIIK91HnQS",
        "colab_type": "code",
        "outputId": "f7617007-1522-4f6a-9614-649191a4ff03",
        "colab": {
          "base_uri": "https://localhost:8080/",
          "height": 241
        }
      },
      "source": [
        "!pip install yfinance --upgrade --no-cache-dir"
      ],
      "execution_count": 1,
      "outputs": [
        {
          "output_type": "stream",
          "text": [
            "Requirement already up-to-date: yfinance in /usr/local/lib/python3.6/dist-packages (0.1.45)\n",
            "Requirement already satisfied, skipping upgrade: multitasking>=0.0.7 in /usr/local/lib/python3.6/dist-packages (from yfinance) (0.0.9)\n",
            "Requirement already satisfied, skipping upgrade: numpy>=1.15 in /usr/local/lib/python3.6/dist-packages (from yfinance) (1.16.5)\n",
            "Requirement already satisfied, skipping upgrade: requests>=2.20 in /usr/local/lib/python3.6/dist-packages (from yfinance) (2.21.0)\n",
            "Requirement already satisfied, skipping upgrade: pandas>=0.24 in /usr/local/lib/python3.6/dist-packages (from yfinance) (0.24.2)\n",
            "Requirement already satisfied, skipping upgrade: chardet<3.1.0,>=3.0.2 in /usr/local/lib/python3.6/dist-packages (from requests>=2.20->yfinance) (3.0.4)\n",
            "Requirement already satisfied, skipping upgrade: idna<2.9,>=2.5 in /usr/local/lib/python3.6/dist-packages (from requests>=2.20->yfinance) (2.8)\n",
            "Requirement already satisfied, skipping upgrade: urllib3<1.25,>=1.21.1 in /usr/local/lib/python3.6/dist-packages (from requests>=2.20->yfinance) (1.24.3)\n",
            "Requirement already satisfied, skipping upgrade: certifi>=2017.4.17 in /usr/local/lib/python3.6/dist-packages (from requests>=2.20->yfinance) (2019.6.16)\n",
            "Requirement already satisfied, skipping upgrade: python-dateutil>=2.5.0 in /usr/local/lib/python3.6/dist-packages (from pandas>=0.24->yfinance) (2.5.3)\n",
            "Requirement already satisfied, skipping upgrade: pytz>=2011k in /usr/local/lib/python3.6/dist-packages (from pandas>=0.24->yfinance) (2018.9)\n",
            "Requirement already satisfied, skipping upgrade: six>=1.5 in /usr/local/lib/python3.6/dist-packages (from python-dateutil>=2.5.0->pandas>=0.24->yfinance) (1.12.0)\n"
          ],
          "name": "stdout"
        }
      ]
    },
    {
      "cell_type": "code",
      "metadata": {
        "id": "zxM04SXtKM4A",
        "colab_type": "code",
        "colab": {}
      },
      "source": [
        "## Further  recommendation, test multiple frameworks, see what works better on average. \n",
        "## Open source RL: https://docs.google.com/spreadsheets/d/1EeFPd-XIQ3mq_9snTlAZSsFY7Hbnmd7P5bbT8LPuMn0/edit#gid=0\n",
        "\n",
        "import numpy as np\n",
        "import pandas as pd\n",
        "import matplotlib.pyplot as plt\n",
        "from matplotlib import style\n",
        "\n",
        "# Adjusting the size of matplotlib\n",
        "import matplotlib as mpl\n",
        "mpl.rc('figure', figsize=(8, 7))\n",
        "mpl.__version__\n",
        "\n",
        "import seaborn as sns\n",
        "sns.set()\n",
        "\n",
        "# machine learning\n",
        "from sklearn.model_selection import train_test_split\n",
        "from sklearn.linear_model import LinearRegression\n",
        "from sklearn.linear_model import LassoLars\n",
        "from sklearn.linear_model import Ridge\n",
        "from sklearn.linear_model import BayesianRidge\n",
        "from sklearn.linear_model import TheilSenRegressor\n",
        "\n",
        "# metrics\n",
        "from sklearn.metrics import r2_score\n",
        "from sklearn.metrics import mean_squared_error"
      ],
      "execution_count": 0,
      "outputs": []
    },
    {
      "cell_type": "code",
      "metadata": {
        "id": "vkYwJMtQH3SI",
        "colab_type": "code",
        "colab": {
          "base_uri": "https://localhost:8080/",
          "height": 51
        },
        "outputId": "b40faed9-bd74-4960-cf2e-e916228f48df"
      },
      "source": [
        "## Save future files to your drive\n",
        "## In this notebook control for multiple testing\n",
        "from google.colab import drive\n",
        "drive.mount('/content/drive',force_remount=True)\n",
        "%cd \"/content/drive/My Drive/Colab Notebooks/Stock Prediction with Regression\"\n",
        "! if test -d \"input\"; then rm -r \"input\"; fi\n",
        "%mkdir \"input\""
      ],
      "execution_count": 3,
      "outputs": [
        {
          "output_type": "stream",
          "text": [
            "Mounted at /content/drive\n",
            "/content/drive/My Drive/Colab Notebooks/Stock Prediction with Regression\n"
          ],
          "name": "stdout"
        }
      ]
    },
    {
      "cell_type": "code",
      "metadata": {
        "id": "JWYlMyKoIrnZ",
        "colab_type": "code",
        "colab": {
          "base_uri": "https://localhost:8080/",
          "height": 34
        },
        "outputId": "00b688cd-8ce3-4a5e-ac07-41ed7452bd2e"
      },
      "source": [
        "from pandas_datareader import data as pdr\n",
        "import fix_yahoo_finance as yf\n",
        "yf.pdr_override()\n",
        "TICKER=\"SHOP\"\n",
        "INPUT_DATA = \"input/%s.csv\" % TICKER\n",
        "df_full = pdr.get_data_yahoo(TICKER, interval=\"5d\", period=\"max\").reset_index()\n",
        "df_full.to_csv(INPUT_DATA,index=False)"
      ],
      "execution_count": 4,
      "outputs": [
        {
          "output_type": "stream",
          "text": [
            "[*********************100%***********************]  1 of 1 downloaded\n"
          ],
          "name": "stdout"
        }
      ]
    },
    {
      "cell_type": "code",
      "metadata": {
        "id": "MYsMuB9OJJbQ",
        "colab_type": "code",
        "colab": {
          "base_uri": "https://localhost:8080/",
          "height": 204
        },
        "outputId": "17c0a9f3-b074-4183-85f9-f3237caeb351"
      },
      "source": [
        "df_full = pd.read_csv(INPUT_DATA)\n",
        "df_full.head()"
      ],
      "execution_count": 5,
      "outputs": [
        {
          "output_type": "execute_result",
          "data": {
            "text/html": [
              "<div>\n",
              "<style scoped>\n",
              "    .dataframe tbody tr th:only-of-type {\n",
              "        vertical-align: middle;\n",
              "    }\n",
              "\n",
              "    .dataframe tbody tr th {\n",
              "        vertical-align: top;\n",
              "    }\n",
              "\n",
              "    .dataframe thead th {\n",
              "        text-align: right;\n",
              "    }\n",
              "</style>\n",
              "<table border=\"1\" class=\"dataframe\">\n",
              "  <thead>\n",
              "    <tr style=\"text-align: right;\">\n",
              "      <th></th>\n",
              "      <th>Date</th>\n",
              "      <th>Open</th>\n",
              "      <th>High</th>\n",
              "      <th>Low</th>\n",
              "      <th>Close</th>\n",
              "      <th>Adj Close</th>\n",
              "      <th>Volume</th>\n",
              "    </tr>\n",
              "  </thead>\n",
              "  <tbody>\n",
              "    <tr>\n",
              "      <th>0</th>\n",
              "      <td>2015-05-20</td>\n",
              "      <td>17.000000</td>\n",
              "      <td>17.000000</td>\n",
              "      <td>17.000000</td>\n",
              "      <td>17.000000</td>\n",
              "      <td>17.000000</td>\n",
              "      <td>0</td>\n",
              "    </tr>\n",
              "    <tr>\n",
              "      <th>1</th>\n",
              "      <td>2015-06-04</td>\n",
              "      <td>27.420000</td>\n",
              "      <td>27.490000</td>\n",
              "      <td>25.510000</td>\n",
              "      <td>26.780001</td>\n",
              "      <td>26.780001</td>\n",
              "      <td>322600</td>\n",
              "    </tr>\n",
              "    <tr>\n",
              "      <th>2</th>\n",
              "      <td>2015-06-09</td>\n",
              "      <td>26.639999</td>\n",
              "      <td>28.459999</td>\n",
              "      <td>26.639999</td>\n",
              "      <td>28.340000</td>\n",
              "      <td>28.340000</td>\n",
              "      <td>337500</td>\n",
              "    </tr>\n",
              "    <tr>\n",
              "      <th>3</th>\n",
              "      <td>2015-06-19</td>\n",
              "      <td>36.330002</td>\n",
              "      <td>36.740002</td>\n",
              "      <td>32.549999</td>\n",
              "      <td>35.520000</td>\n",
              "      <td>35.520000</td>\n",
              "      <td>979700</td>\n",
              "    </tr>\n",
              "    <tr>\n",
              "      <th>4</th>\n",
              "      <td>2015-06-24</td>\n",
              "      <td>35.119999</td>\n",
              "      <td>37.429001</td>\n",
              "      <td>34.139999</td>\n",
              "      <td>35.959999</td>\n",
              "      <td>35.959999</td>\n",
              "      <td>564400</td>\n",
              "    </tr>\n",
              "  </tbody>\n",
              "</table>\n",
              "</div>"
            ],
            "text/plain": [
              "         Date       Open       High        Low      Close  Adj Close  Volume\n",
              "0  2015-05-20  17.000000  17.000000  17.000000  17.000000  17.000000       0\n",
              "1  2015-06-04  27.420000  27.490000  25.510000  26.780001  26.780001  322600\n",
              "2  2015-06-09  26.639999  28.459999  26.639999  28.340000  28.340000  337500\n",
              "3  2015-06-19  36.330002  36.740002  32.549999  35.520000  35.520000  979700\n",
              "4  2015-06-24  35.119999  37.429001  34.139999  35.959999  35.959999  564400"
            ]
          },
          "metadata": {
            "tags": []
          },
          "execution_count": 5
        }
      ]
    },
    {
      "cell_type": "code",
      "metadata": {
        "id": "my0wujCfKInq",
        "colab_type": "code",
        "colab": {
          "base_uri": "https://localhost:8080/",
          "height": 204
        },
        "outputId": "a1dcaa1d-434e-4b16-eb72-cbe75fa4e8ce"
      },
      "source": [
        "df_full.tail()"
      ],
      "execution_count": 6,
      "outputs": [
        {
          "output_type": "execute_result",
          "data": {
            "text/html": [
              "<div>\n",
              "<style scoped>\n",
              "    .dataframe tbody tr th:only-of-type {\n",
              "        vertical-align: middle;\n",
              "    }\n",
              "\n",
              "    .dataframe tbody tr th {\n",
              "        vertical-align: top;\n",
              "    }\n",
              "\n",
              "    .dataframe thead th {\n",
              "        text-align: right;\n",
              "    }\n",
              "</style>\n",
              "<table border=\"1\" class=\"dataframe\">\n",
              "  <thead>\n",
              "    <tr style=\"text-align: right;\">\n",
              "      <th></th>\n",
              "      <th>Date</th>\n",
              "      <th>Open</th>\n",
              "      <th>High</th>\n",
              "      <th>Low</th>\n",
              "      <th>Close</th>\n",
              "      <th>Adj Close</th>\n",
              "      <th>Volume</th>\n",
              "    </tr>\n",
              "  </thead>\n",
              "  <tbody>\n",
              "    <tr>\n",
              "      <th>210</th>\n",
              "      <td>2019-08-22</td>\n",
              "      <td>391.880005</td>\n",
              "      <td>392.829987</td>\n",
              "      <td>380.019989</td>\n",
              "      <td>388.540009</td>\n",
              "      <td>388.540009</td>\n",
              "      <td>2084800</td>\n",
              "    </tr>\n",
              "    <tr>\n",
              "      <th>211</th>\n",
              "      <td>2019-08-27</td>\n",
              "      <td>402.700012</td>\n",
              "      <td>409.609985</td>\n",
              "      <td>398.500000</td>\n",
              "      <td>406.989990</td>\n",
              "      <td>406.989990</td>\n",
              "      <td>2791900</td>\n",
              "    </tr>\n",
              "    <tr>\n",
              "      <th>212</th>\n",
              "      <td>2019-09-06</td>\n",
              "      <td>393.489990</td>\n",
              "      <td>395.750000</td>\n",
              "      <td>380.140015</td>\n",
              "      <td>380.420013</td>\n",
              "      <td>380.420013</td>\n",
              "      <td>1723700</td>\n",
              "    </tr>\n",
              "    <tr>\n",
              "      <th>213</th>\n",
              "      <td>2019-09-11</td>\n",
              "      <td>338.399994</td>\n",
              "      <td>350.700012</td>\n",
              "      <td>336.100006</td>\n",
              "      <td>347.510010</td>\n",
              "      <td>347.510010</td>\n",
              "      <td>3215200</td>\n",
              "    </tr>\n",
              "    <tr>\n",
              "      <th>214</th>\n",
              "      <td>2019-09-13</td>\n",
              "      <td>356.529999</td>\n",
              "      <td>357.500000</td>\n",
              "      <td>337.640015</td>\n",
              "      <td>338.309998</td>\n",
              "      <td>338.309998</td>\n",
              "      <td>2645598</td>\n",
              "    </tr>\n",
              "  </tbody>\n",
              "</table>\n",
              "</div>"
            ],
            "text/plain": [
              "           Date        Open        High  ...       Close   Adj Close   Volume\n",
              "210  2019-08-22  391.880005  392.829987  ...  388.540009  388.540009  2084800\n",
              "211  2019-08-27  402.700012  409.609985  ...  406.989990  406.989990  2791900\n",
              "212  2019-09-06  393.489990  395.750000  ...  380.420013  380.420013  1723700\n",
              "213  2019-09-11  338.399994  350.700012  ...  347.510010  347.510010  3215200\n",
              "214  2019-09-13  356.529999  357.500000  ...  338.309998  338.309998  2645598\n",
              "\n",
              "[5 rows x 7 columns]"
            ]
          },
          "metadata": {
            "tags": []
          },
          "execution_count": 6
        }
      ]
    },
    {
      "cell_type": "code",
      "metadata": {
        "id": "kcjqdsZ8M-kr",
        "colab_type": "code",
        "colab": {
          "base_uri": "https://localhost:8080/",
          "height": 51
        },
        "outputId": "0466a1a0-066c-4e79-933c-6339f883cee6"
      },
      "source": [
        "df_full.columns.values"
      ],
      "execution_count": 7,
      "outputs": [
        {
          "output_type": "execute_result",
          "data": {
            "text/plain": [
              "array(['Date', 'Open', 'High', 'Low', 'Close', 'Adj Close', 'Volume'],\n",
              "      dtype=object)"
            ]
          },
          "metadata": {
            "tags": []
          },
          "execution_count": 7
        }
      ]
    },
    {
      "cell_type": "code",
      "metadata": {
        "id": "JieQUJKVNRit",
        "colab_type": "code",
        "colab": {
          "base_uri": "https://localhost:8080/",
          "height": 501
        },
        "outputId": "ce72bfba-683a-4c26-b18b-65d8acc06ca0"
      },
      "source": [
        "df_full.info()\n",
        "df_full.describe()"
      ],
      "execution_count": 8,
      "outputs": [
        {
          "output_type": "stream",
          "text": [
            "<class 'pandas.core.frame.DataFrame'>\n",
            "RangeIndex: 215 entries, 0 to 214\n",
            "Data columns (total 7 columns):\n",
            "Date         215 non-null object\n",
            "Open         215 non-null float64\n",
            "High         215 non-null float64\n",
            "Low          215 non-null float64\n",
            "Close        215 non-null float64\n",
            "Adj Close    215 non-null float64\n",
            "Volume       215 non-null int64\n",
            "dtypes: float64(5), int64(1), object(1)\n",
            "memory usage: 11.8+ KB\n"
          ],
          "name": "stdout"
        },
        {
          "output_type": "execute_result",
          "data": {
            "text/html": [
              "<div>\n",
              "<style scoped>\n",
              "    .dataframe tbody tr th:only-of-type {\n",
              "        vertical-align: middle;\n",
              "    }\n",
              "\n",
              "    .dataframe tbody tr th {\n",
              "        vertical-align: top;\n",
              "    }\n",
              "\n",
              "    .dataframe thead th {\n",
              "        text-align: right;\n",
              "    }\n",
              "</style>\n",
              "<table border=\"1\" class=\"dataframe\">\n",
              "  <thead>\n",
              "    <tr style=\"text-align: right;\">\n",
              "      <th></th>\n",
              "      <th>Open</th>\n",
              "      <th>High</th>\n",
              "      <th>Low</th>\n",
              "      <th>Close</th>\n",
              "      <th>Adj Close</th>\n",
              "      <th>Volume</th>\n",
              "    </tr>\n",
              "  </thead>\n",
              "  <tbody>\n",
              "    <tr>\n",
              "      <th>count</th>\n",
              "      <td>215.000000</td>\n",
              "      <td>215.000000</td>\n",
              "      <td>215.000000</td>\n",
              "      <td>215.000000</td>\n",
              "      <td>215.000000</td>\n",
              "      <td>2.150000e+02</td>\n",
              "    </tr>\n",
              "    <tr>\n",
              "      <th>mean</th>\n",
              "      <td>107.319005</td>\n",
              "      <td>109.540967</td>\n",
              "      <td>105.214307</td>\n",
              "      <td>107.559255</td>\n",
              "      <td>107.559255</td>\n",
              "      <td>1.388020e+06</td>\n",
              "    </tr>\n",
              "    <tr>\n",
              "      <th>std</th>\n",
              "      <td>87.598298</td>\n",
              "      <td>88.912832</td>\n",
              "      <td>85.747592</td>\n",
              "      <td>87.284743</td>\n",
              "      <td>87.284743</td>\n",
              "      <td>1.364059e+06</td>\n",
              "    </tr>\n",
              "    <tr>\n",
              "      <th>min</th>\n",
              "      <td>17.000000</td>\n",
              "      <td>17.000000</td>\n",
              "      <td>17.000000</td>\n",
              "      <td>17.000000</td>\n",
              "      <td>17.000000</td>\n",
              "      <td>0.000000e+00</td>\n",
              "    </tr>\n",
              "    <tr>\n",
              "      <th>25%</th>\n",
              "      <td>34.720002</td>\n",
              "      <td>36.615002</td>\n",
              "      <td>33.335001</td>\n",
              "      <td>35.415001</td>\n",
              "      <td>35.415001</td>\n",
              "      <td>6.805500e+05</td>\n",
              "    </tr>\n",
              "    <tr>\n",
              "      <th>50%</th>\n",
              "      <td>91.910004</td>\n",
              "      <td>95.720001</td>\n",
              "      <td>91.900002</td>\n",
              "      <td>93.500000</td>\n",
              "      <td>93.500000</td>\n",
              "      <td>1.060800e+06</td>\n",
              "    </tr>\n",
              "    <tr>\n",
              "      <th>75%</th>\n",
              "      <td>143.159996</td>\n",
              "      <td>146.557007</td>\n",
              "      <td>140.784996</td>\n",
              "      <td>144.934997</td>\n",
              "      <td>144.934997</td>\n",
              "      <td>1.739300e+06</td>\n",
              "    </tr>\n",
              "    <tr>\n",
              "      <th>max</th>\n",
              "      <td>402.700012</td>\n",
              "      <td>409.609985</td>\n",
              "      <td>398.500000</td>\n",
              "      <td>406.989990</td>\n",
              "      <td>406.989990</td>\n",
              "      <td>1.292710e+07</td>\n",
              "    </tr>\n",
              "  </tbody>\n",
              "</table>\n",
              "</div>"
            ],
            "text/plain": [
              "             Open        High         Low       Close   Adj Close        Volume\n",
              "count  215.000000  215.000000  215.000000  215.000000  215.000000  2.150000e+02\n",
              "mean   107.319005  109.540967  105.214307  107.559255  107.559255  1.388020e+06\n",
              "std     87.598298   88.912832   85.747592   87.284743   87.284743  1.364059e+06\n",
              "min     17.000000   17.000000   17.000000   17.000000   17.000000  0.000000e+00\n",
              "25%     34.720002   36.615002   33.335001   35.415001   35.415001  6.805500e+05\n",
              "50%     91.910004   95.720001   91.900002   93.500000   93.500000  1.060800e+06\n",
              "75%    143.159996  146.557007  140.784996  144.934997  144.934997  1.739300e+06\n",
              "max    402.700012  409.609985  398.500000  406.989990  406.989990  1.292710e+07"
            ]
          },
          "metadata": {
            "tags": []
          },
          "execution_count": 8
        }
      ]
    },
    {
      "cell_type": "markdown",
      "metadata": {
        "id": "hTu8ACk4No4W",
        "colab_type": "text"
      },
      "source": [
        "## Notes\n",
        "- all features do not have missing data (in terms of count)\n",
        "- 1088 number of data for every features\n",
        "- no \"bad/null/empty\" data as `min` of all features has a value (except `Volume` as day 1 is 0)\n",
        "\n",
        "- removing following features:\n",
        " - `Date, High, Low, Adj Close`: not relevant for training\n",
        "\n",
        "- adding following features:\n",
        " - `next_eow_close`: using this as target feature as we want to predict the next end of week closing price based on this week's performance\n"
      ]
    },
    {
      "cell_type": "code",
      "metadata": {
        "id": "u27U6ZtVh9wV",
        "colab_type": "code",
        "colab": {}
      },
      "source": [
        "# Create new feature which will be the target price (next day)\n",
        "# Remove last row as it doesn't have a next_day_close value\n",
        "remove_features = ['Date', 'High', 'Low', 'Adj Close']\n",
        "rename_mapper = {'Open': 'open', 'Close': 'close', 'Volume': 'volume'}\n",
        "df_full['next_day_close'] = pd.Series(np.append(df_full['Close'][1:].to_numpy(), [0]))\n",
        "df_full.drop(df_full.tail(1).index, inplace=True)\n",
        "df_full.drop(remove_features, axis=1, inplace=True)\n",
        "df_full.rename(columns=rename_mapper, inplace=True)\n"
      ],
      "execution_count": 0,
      "outputs": []
    },
    {
      "cell_type": "code",
      "metadata": {
        "id": "zh7ze33fN8QA",
        "colab_type": "code",
        "colab": {
          "base_uri": "https://localhost:8080/",
          "height": 323
        },
        "outputId": "02460b83-ba20-4bae-8d87-f28d59b50376"
      },
      "source": [
        "train, test = train_test_split(df_full, test_size=0.1, shuffle=False)\n",
        "train.info()\n",
        "test.info()"
      ],
      "execution_count": 10,
      "outputs": [
        {
          "output_type": "stream",
          "text": [
            "<class 'pandas.core.frame.DataFrame'>\n",
            "Int64Index: 192 entries, 0 to 191\n",
            "Data columns (total 4 columns):\n",
            "open              192 non-null float64\n",
            "close             192 non-null float64\n",
            "volume            192 non-null int64\n",
            "next_day_close    192 non-null float64\n",
            "dtypes: float64(3), int64(1)\n",
            "memory usage: 7.5 KB\n",
            "<class 'pandas.core.frame.DataFrame'>\n",
            "Int64Index: 22 entries, 192 to 213\n",
            "Data columns (total 4 columns):\n",
            "open              22 non-null float64\n",
            "close             22 non-null float64\n",
            "volume            22 non-null int64\n",
            "next_day_close    22 non-null float64\n",
            "dtypes: float64(3), int64(1)\n",
            "memory usage: 880.0 bytes\n"
          ],
          "name": "stdout"
        }
      ]
    },
    {
      "cell_type": "code",
      "metadata": {
        "id": "25DTc5taSjBa",
        "colab_type": "code",
        "colab": {
          "base_uri": "https://localhost:8080/",
          "height": 204
        },
        "outputId": "6e89aac0-7c94-448a-e75e-a0550ba0858e"
      },
      "source": [
        "train.head()"
      ],
      "execution_count": 11,
      "outputs": [
        {
          "output_type": "execute_result",
          "data": {
            "text/html": [
              "<div>\n",
              "<style scoped>\n",
              "    .dataframe tbody tr th:only-of-type {\n",
              "        vertical-align: middle;\n",
              "    }\n",
              "\n",
              "    .dataframe tbody tr th {\n",
              "        vertical-align: top;\n",
              "    }\n",
              "\n",
              "    .dataframe thead th {\n",
              "        text-align: right;\n",
              "    }\n",
              "</style>\n",
              "<table border=\"1\" class=\"dataframe\">\n",
              "  <thead>\n",
              "    <tr style=\"text-align: right;\">\n",
              "      <th></th>\n",
              "      <th>open</th>\n",
              "      <th>close</th>\n",
              "      <th>volume</th>\n",
              "      <th>next_day_close</th>\n",
              "    </tr>\n",
              "  </thead>\n",
              "  <tbody>\n",
              "    <tr>\n",
              "      <th>0</th>\n",
              "      <td>17.000000</td>\n",
              "      <td>17.000000</td>\n",
              "      <td>0</td>\n",
              "      <td>26.780001</td>\n",
              "    </tr>\n",
              "    <tr>\n",
              "      <th>1</th>\n",
              "      <td>27.420000</td>\n",
              "      <td>26.780001</td>\n",
              "      <td>322600</td>\n",
              "      <td>28.340000</td>\n",
              "    </tr>\n",
              "    <tr>\n",
              "      <th>2</th>\n",
              "      <td>26.639999</td>\n",
              "      <td>28.340000</td>\n",
              "      <td>337500</td>\n",
              "      <td>35.520000</td>\n",
              "    </tr>\n",
              "    <tr>\n",
              "      <th>3</th>\n",
              "      <td>36.330002</td>\n",
              "      <td>35.520000</td>\n",
              "      <td>979700</td>\n",
              "      <td>35.959999</td>\n",
              "    </tr>\n",
              "    <tr>\n",
              "      <th>4</th>\n",
              "      <td>35.119999</td>\n",
              "      <td>35.959999</td>\n",
              "      <td>564400</td>\n",
              "      <td>31.320000</td>\n",
              "    </tr>\n",
              "  </tbody>\n",
              "</table>\n",
              "</div>"
            ],
            "text/plain": [
              "        open      close  volume  next_day_close\n",
              "0  17.000000  17.000000       0       26.780001\n",
              "1  27.420000  26.780001  322600       28.340000\n",
              "2  26.639999  28.340000  337500       35.520000\n",
              "3  36.330002  35.520000  979700       35.959999\n",
              "4  35.119999  35.959999  564400       31.320000"
            ]
          },
          "metadata": {
            "tags": []
          },
          "execution_count": 11
        }
      ]
    },
    {
      "cell_type": "code",
      "metadata": {
        "id": "RHmIGliZnhRo",
        "colab_type": "code",
        "colab": {}
      },
      "source": [
        "def plot_prediction(regressor, y_pred, y_actual):\n",
        "    close_price = y_actual\n",
        "    pred_price = pd.Series(y_pred, index=close_price.index.values)\n",
        "    close_price.head(15).plot(label='actual')\n",
        "    pred_price.head(15).plot(label='prediction')\n",
        "    title = \"%s on %s ticker\" % (regressor.strip(), TICKER)\n",
        "    plt.title(title)\n",
        "    plt.legend()"
      ],
      "execution_count": 0,
      "outputs": []
    },
    {
      "cell_type": "code",
      "metadata": {
        "id": "3yFYnSQeWjzs",
        "colab_type": "code",
        "colab": {
          "base_uri": "https://localhost:8080/",
          "height": 34
        },
        "outputId": "5ddd3677-7890-4347-c0f1-f2eab81be53c"
      },
      "source": [
        "# Set up training and testing data\n",
        "X_train = train.drop(\"next_day_close\", axis=1)\n",
        "Y_train = train[\"next_day_close\"]\n",
        "X_test = test.drop(\"next_day_close\", axis=1)\n",
        "Y_expected = test[\"next_day_close\"]\n",
        "X_train.shape, Y_train.shape, X_test.shape\n"
      ],
      "execution_count": 13,
      "outputs": [
        {
          "output_type": "execute_result",
          "data": {
            "text/plain": [
              "((192, 3), (192,), (22, 3))"
            ]
          },
          "metadata": {
            "tags": []
          },
          "execution_count": 13
        }
      ]
    },
    {
      "cell_type": "code",
      "metadata": {
        "id": "Da_98ZUfZT2R",
        "colab_type": "code",
        "colab": {
          "base_uri": "https://localhost:8080/",
          "height": 481
        },
        "outputId": "e02ef786-a32f-462c-fed3-cd1a1be6b59c"
      },
      "source": [
        "# Linear Regression\n",
        "\n",
        "linear_reg = LinearRegression()\n",
        "linear_reg.fit(X_train, Y_train)\n",
        "Y_pred = linear_reg.predict(X_test)\n",
        "linear_r2 = r2_score(Y_expected, Y_pred)\n",
        "linear_mse = mean_squared_error(Y_expected, Y_pred)\n",
        "print(\"Linear Regression\\n\", \"R2: \", linear_r2, \"MSE:\" ,linear_mse)\n",
        "plot_prediction(\"Linear Regression\", Y_pred, test['close'])"
      ],
      "execution_count": 14,
      "outputs": [
        {
          "output_type": "stream",
          "text": [
            "Linear Regression\n",
            " R2:  0.8505710918497229 MSE: 365.8789127297237\n"
          ],
          "name": "stdout"
        },
        {
          "output_type": "display_data",
          "data": {
            "image/png": "[encoded data removed]",
            "text/plain": [
              "<Figure size 576x504 with 1 Axes>"
            ]
          },
          "metadata": {
            "tags": []
          }
        }
      ]
    },
    {
      "cell_type": "code",
      "metadata": {
        "id": "5u6gsZsbZcPY",
        "colab_type": "code",
        "colab": {
          "base_uri": "https://localhost:8080/",
          "height": 481
        },
        "outputId": "2c1bd396-8f9c-4844-a1cd-c562d601f9cd"
      },
      "source": [
        "# Lasso Lars\n",
        "\n",
        "lassolars_reg = LassoLars()\n",
        "lassolars_reg.fit(X_train, Y_train)\n",
        "Y_pred = lassolars_reg.predict(X_test)\n",
        "lassolars_r2 = r2_score(Y_expected, Y_pred)\n",
        "lassolars_mse = mean_squared_error(Y_expected, Y_pred)\n",
        "print(\"Lasso Lars Regression\\n\", \"R2: \", lassolars_r2, \"MSE:\" ,lassolars_mse)\n",
        "plot_prediction(\"Lasso Lars Regression\", Y_pred, test['close'])"
      ],
      "execution_count": 15,
      "outputs": [
        {
          "output_type": "stream",
          "text": [
            "Lasso Lars Regression\n",
            " R2:  -0.7551354330630555 MSE: 4297.475313790765\n"
          ],
          "name": "stdout"
        },
        {
          "output_type": "display_data",
          "data": {
            "image/png": "[encoded data removed]",
            "text/plain": [
              "<Figure size 576x504 with 1 Axes>"
            ]
          },
          "metadata": {
            "tags": []
          }
        }
      ]
    },
    {
      "cell_type": "code",
      "metadata": {
        "id": "fTAKhiyEcgBa",
        "colab_type": "code",
        "colab": {
          "base_uri": "https://localhost:8080/",
          "height": 481
        },
        "outputId": "997a17c0-3619-4269-ccd7-094a93691372"
      },
      "source": [
        "# Theil Sen Regressor\n",
        "\n",
        "theil_reg = TheilSenRegressor()\n",
        "theil_reg.fit(X_train, Y_train)\n",
        "Y_pred = theil_reg.predict(X_test)\n",
        "theil_r2 = r2_score(Y_expected, Y_pred)\n",
        "theil_mse = mean_squared_error(Y_expected, Y_pred)\n",
        "print(\"Theil Sen Regression\\n\", \"R2: \", theil_r2, \"MSE:\" ,theil_mse)\n",
        "plot_prediction(\"Theil Sen Regression\", Y_pred, test['close'])"
      ],
      "execution_count": 16,
      "outputs": [
        {
          "output_type": "stream",
          "text": [
            "Theil Sen Regression\n",
            " R2:  0.8568370803599713 MSE: 350.53654630487495\n"
          ],
          "name": "stdout"
        },
        {
          "output_type": "display_data",
          "data": {
            "image/png": "[encoded data removed]",
            "text/plain": [
              "<Figure size 576x504 with 1 Axes>"
            ]
          },
          "metadata": {
            "tags": []
          }
        }
      ]
    },
    {
      "cell_type": "code",
      "metadata": {
        "id": "IWy3vPczcpGM",
        "colab_type": "code",
        "colab": {
          "base_uri": "https://localhost:8080/",
          "height": 481
        },
        "outputId": "137e76f6-1e4a-4072-d6cf-8f41f0b64a64"
      },
      "source": [
        "# Bayesian Ridge\n",
        "\n",
        "bayesian_reg = BayesianRidge()\n",
        "bayesian_reg.fit(X_train, Y_train)\n",
        "Y_pred = bayesian_reg.predict(X_test)\n",
        "bayesian_r2 = r2_score(Y_expected, Y_pred)\n",
        "bayesian_mse = mean_squared_error(Y_expected, Y_pred)\n",
        "print(\"Bayesian Ridge Regression\\n\", \"R2: \", bayesian_r2, \"MSE:\" ,bayesian_mse)\n",
        "plot_prediction(\"Bayesian Ridge Regression\", Y_pred, test['close'])"
      ],
      "execution_count": 17,
      "outputs": [
        {
          "output_type": "stream",
          "text": [
            "Bayesian Ridge Regression\n",
            " R2:  0.8511098133896066 MSE: 364.5598449956645\n"
          ],
          "name": "stdout"
        },
        {
          "output_type": "display_data",
          "data": {
            "image/png": "[encoded data removed]",
            "text/plain": [
              "<Figure size 576x504 with 1 Axes>"
            ]
          },
          "metadata": {
            "tags": []
          }
        }
      ]
    }
  ]
}